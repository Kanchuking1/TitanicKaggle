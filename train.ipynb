{
 "cells": [
  {
   "cell_type": "code",
   "execution_count": 129,
   "metadata": {},
   "outputs": [
    {
     "name": "stdout",
     "output_type": "stream",
     "text": [
      "Collecting seaborn\n",
      "  Downloading seaborn-0.13.2-py3-none-any.whl (294 kB)\n",
      "                                              0.0/294.9 kB ? eta -:--:--\n",
      "     -                                        10.2/294.9 kB ? eta -:--:--\n",
      "     -                                        10.2/294.9 kB ? eta -:--:--\n",
      "     -----                                 41.0/294.9 kB 326.8 kB/s eta 0:00:01\n",
      "     -----------                           92.2/294.9 kB 581.0 kB/s eta 0:00:01\n",
      "     -------------------------------        245.8/294.9 kB 1.3 MB/s eta 0:00:01\n",
      "     -------------------------------------- 294.9/294.9 kB 1.2 MB/s eta 0:00:00\n",
      "Requirement already satisfied: numpy!=1.24.0,>=1.20 in c:\\users\\91993\\appdata\\local\\packages\\pythonsoftwarefoundation.python.3.11_qbz5n2kfra8p0\\localcache\\local-packages\\python311\\site-packages (from seaborn) (1.24.3)\n",
      "Requirement already satisfied: pandas>=1.2 in c:\\users\\91993\\appdata\\local\\packages\\pythonsoftwarefoundation.python.3.11_qbz5n2kfra8p0\\localcache\\local-packages\\python311\\site-packages (from seaborn) (2.2.2)\n",
      "Collecting matplotlib!=3.6.1,>=3.4 (from seaborn)\n",
      "  Downloading matplotlib-3.8.4-cp311-cp311-win_amd64.whl (7.7 MB)\n",
      "                                              0.0/7.7 MB ? eta -:--:--\n",
      "                                              0.1/7.7 MB ? eta -:--:--\n",
      "                                              0.1/7.7 MB 1.1 MB/s eta 0:00:08\n",
      "     -                                        0.2/7.7 MB 1.8 MB/s eta 0:00:05\n",
      "     --                                       0.4/7.7 MB 2.6 MB/s eta 0:00:03\n",
      "     ---                                      0.7/7.7 MB 3.4 MB/s eta 0:00:03\n",
      "     ---                                      0.7/7.7 MB 3.4 MB/s eta 0:00:03\n",
      "     ---                                      0.7/7.7 MB 3.4 MB/s eta 0:00:03\n",
      "     ---                                      0.7/7.7 MB 3.4 MB/s eta 0:00:03\n",
      "     -----                                    1.0/7.7 MB 2.7 MB/s eta 0:00:03\n",
      "     -----                                    1.1/7.7 MB 2.9 MB/s eta 0:00:03\n",
      "     ------                                   1.2/7.7 MB 2.7 MB/s eta 0:00:03\n",
      "     -------                                  1.3/7.7 MB 2.7 MB/s eta 0:00:03\n",
      "     --------                                 1.6/7.7 MB 2.8 MB/s eta 0:00:03\n",
      "     --------                                 1.6/7.7 MB 2.8 MB/s eta 0:00:03\n",
      "     --------                                 1.7/7.7 MB 2.7 MB/s eta 0:00:03\n",
      "     ---------                                1.8/7.7 MB 2.7 MB/s eta 0:00:03\n",
      "     ---------                                1.9/7.7 MB 2.7 MB/s eta 0:00:03\n",
      "     ----------                               2.0/7.7 MB 2.6 MB/s eta 0:00:03\n",
      "     ----------                               2.1/7.7 MB 2.6 MB/s eta 0:00:03\n",
      "     -----------                              2.2/7.7 MB 2.6 MB/s eta 0:00:03\n",
      "     -----------                              2.3/7.7 MB 2.6 MB/s eta 0:00:03\n",
      "     ------------                             2.4/7.7 MB 2.5 MB/s eta 0:00:03\n",
      "     ------------                             2.4/7.7 MB 2.5 MB/s eta 0:00:03\n",
      "     -------------                            2.5/7.7 MB 2.5 MB/s eta 0:00:03\n",
      "     -------------                            2.6/7.7 MB 2.5 MB/s eta 0:00:03\n",
      "     --------------                           2.7/7.7 MB 2.5 MB/s eta 0:00:02\n",
      "     --------------                           2.8/7.7 MB 2.5 MB/s eta 0:00:02\n",
      "     ---------------                          2.9/7.7 MB 2.5 MB/s eta 0:00:02\n",
      "     ---------------                          3.0/7.7 MB 2.4 MB/s eta 0:00:02\n",
      "     ----------------                         3.1/7.7 MB 2.4 MB/s eta 0:00:02\n",
      "     ----------------                         3.2/7.7 MB 2.4 MB/s eta 0:00:02\n",
      "     -----------------                        3.3/7.7 MB 2.4 MB/s eta 0:00:02\n",
      "     -----------------                        3.4/7.7 MB 2.4 MB/s eta 0:00:02\n",
      "     ------------------                       3.5/7.7 MB 2.4 MB/s eta 0:00:02\n",
      "     ------------------                       3.6/7.7 MB 2.4 MB/s eta 0:00:02\n",
      "     -------------------                      3.7/7.7 MB 2.4 MB/s eta 0:00:02\n",
      "     -------------------                      3.8/7.7 MB 2.4 MB/s eta 0:00:02\n",
      "     --------------------                     3.9/7.7 MB 2.4 MB/s eta 0:00:02\n",
      "     --------------------                     3.9/7.7 MB 2.4 MB/s eta 0:00:02\n",
      "     ---------------------                    4.0/7.7 MB 2.4 MB/s eta 0:00:02\n",
      "     ---------------------                    4.1/7.7 MB 2.4 MB/s eta 0:00:02\n",
      "     ----------------------                   4.2/7.7 MB 2.4 MB/s eta 0:00:02\n",
      "     ----------------------                   4.3/7.7 MB 2.4 MB/s eta 0:00:02\n",
      "     -----------------------                  4.5/7.7 MB 2.4 MB/s eta 0:00:02\n",
      "     -----------------------                  4.6/7.7 MB 2.4 MB/s eta 0:00:02\n",
      "     ------------------------                 4.7/7.7 MB 2.4 MB/s eta 0:00:02\n",
      "     -------------------------                4.8/7.7 MB 2.4 MB/s eta 0:00:02\n",
      "     -------------------------                4.9/7.7 MB 2.4 MB/s eta 0:00:02\n",
      "     --------------------------               5.0/7.7 MB 2.4 MB/s eta 0:00:02\n",
      "     --------------------------               5.1/7.7 MB 2.4 MB/s eta 0:00:02\n",
      "     ---------------------------              5.2/7.7 MB 2.5 MB/s eta 0:00:01\n",
      "     ---------------------------              5.3/7.7 MB 2.5 MB/s eta 0:00:01\n",
      "     ----------------------------             5.5/7.7 MB 2.5 MB/s eta 0:00:01\n",
      "     -----------------------------            5.6/7.7 MB 2.5 MB/s eta 0:00:01\n",
      "     -----------------------------            5.7/7.7 MB 2.5 MB/s eta 0:00:01\n",
      "     ------------------------------           5.8/7.7 MB 2.5 MB/s eta 0:00:01\n",
      "     -------------------------------          5.9/7.7 MB 2.5 MB/s eta 0:00:01\n",
      "     -------------------------------          6.1/7.7 MB 2.5 MB/s eta 0:00:01\n",
      "     --------------------------------         6.2/7.7 MB 2.5 MB/s eta 0:00:01\n",
      "     --------------------------------         6.3/7.7 MB 2.5 MB/s eta 0:00:01\n",
      "     --------------------------------         6.3/7.7 MB 2.5 MB/s eta 0:00:01\n",
      "     ----------------------------------       6.5/7.7 MB 2.5 MB/s eta 0:00:01\n",
      "     ----------------------------------       6.6/7.7 MB 2.5 MB/s eta 0:00:01\n",
      "     ----------------------------------       6.7/7.7 MB 2.5 MB/s eta 0:00:01\n",
      "     -----------------------------------      6.7/7.7 MB 2.5 MB/s eta 0:00:01\n",
      "     -----------------------------------      6.8/7.7 MB 2.5 MB/s eta 0:00:01\n",
      "     -----------------------------------      6.8/7.7 MB 2.5 MB/s eta 0:00:01\n",
      "     -----------------------------------      6.8/7.7 MB 2.5 MB/s eta 0:00:01\n",
      "     -----------------------------------      6.8/7.7 MB 2.4 MB/s eta 0:00:01\n",
      "     -----------------------------------      6.8/7.7 MB 2.4 MB/s eta 0:00:01\n",
      "     -----------------------------------      6.9/7.7 MB 2.3 MB/s eta 0:00:01\n",
      "     ------------------------------------     6.9/7.7 MB 2.3 MB/s eta 0:00:01\n",
      "     ------------------------------------     6.9/7.7 MB 2.3 MB/s eta 0:00:01\n",
      "     ------------------------------------     6.9/7.7 MB 2.3 MB/s eta 0:00:01\n",
      "     ------------------------------------     7.0/7.7 MB 2.2 MB/s eta 0:00:01\n",
      "     ------------------------------------     7.0/7.7 MB 2.2 MB/s eta 0:00:01\n",
      "     ------------------------------------     7.0/7.7 MB 2.2 MB/s eta 0:00:01\n",
      "     ------------------------------------     7.0/7.7 MB 2.2 MB/s eta 0:00:01\n",
      "     -------------------------------------    7.1/7.7 MB 2.1 MB/s eta 0:00:01\n",
      "     -------------------------------------    7.1/7.7 MB 2.1 MB/s eta 0:00:01\n",
      "     -------------------------------------    7.1/7.7 MB 2.1 MB/s eta 0:00:01\n",
      "     -------------------------------------    7.2/7.7 MB 2.1 MB/s eta 0:00:01\n",
      "     -------------------------------------    7.2/7.7 MB 2.1 MB/s eta 0:00:01\n",
      "     -------------------------------------    7.2/7.7 MB 2.1 MB/s eta 0:00:01\n",
      "     --------------------------------------   7.3/7.7 MB 2.0 MB/s eta 0:00:01\n",
      "     --------------------------------------   7.3/7.7 MB 2.0 MB/s eta 0:00:01\n",
      "     --------------------------------------   7.3/7.7 MB 2.0 MB/s eta 0:00:01\n",
      "     --------------------------------------   7.4/7.7 MB 2.0 MB/s eta 0:00:01\n",
      "     --------------------------------------   7.4/7.7 MB 2.0 MB/s eta 0:00:01\n",
      "     --------------------------------------   7.5/7.7 MB 2.0 MB/s eta 0:00:01\n",
      "     ---------------------------------------  7.5/7.7 MB 2.0 MB/s eta 0:00:01\n",
      "     ---------------------------------------  7.5/7.7 MB 1.9 MB/s eta 0:00:01\n",
      "     ---------------------------------------  7.6/7.7 MB 1.9 MB/s eta 0:00:01\n",
      "     ---------------------------------------  7.6/7.7 MB 1.9 MB/s eta 0:00:01\n",
      "     ---------------------------------------  7.6/7.7 MB 1.9 MB/s eta 0:00:01\n",
      "     ---------------------------------------- 7.7/7.7 MB 1.9 MB/s eta 0:00:00\n",
      "Collecting contourpy>=1.0.1 (from matplotlib!=3.6.1,>=3.4->seaborn)\n",
      "  Downloading contourpy-1.2.1-cp311-cp311-win_amd64.whl (188 kB)\n",
      "                                              0.0/188.2 kB ? eta -:--:--\n",
      "     --------                              41.0/188.2 kB 991.0 kB/s eta 0:00:01\n",
      "     --------------                        71.7/188.2 kB 787.7 kB/s eta 0:00:01\n",
      "     ------------------------               122.9/188.2 kB 1.0 MB/s eta 0:00:01\n",
      "     -----------------------------------    174.1/188.2 kB 1.1 MB/s eta 0:00:01\n",
      "     -------------------------------------- 188.2/188.2 kB 1.0 MB/s eta 0:00:00\n",
      "Collecting cycler>=0.10 (from matplotlib!=3.6.1,>=3.4->seaborn)\n",
      "  Downloading cycler-0.12.1-py3-none-any.whl (8.3 kB)\n",
      "Collecting fonttools>=4.22.0 (from matplotlib!=3.6.1,>=3.4->seaborn)\n",
      "  Downloading fonttools-4.51.0-cp311-cp311-win_amd64.whl (2.2 MB)\n",
      "                                              0.0/2.2 MB ? eta -:--:--\n",
      "                                              0.0/2.2 MB ? eta -:--:--\n",
      "     -                                        0.1/2.2 MB 1.3 MB/s eta 0:00:02\n",
      "     --                                       0.1/2.2 MB 1.2 MB/s eta 0:00:02\n",
      "     ---                                      0.2/2.2 MB 1.2 MB/s eta 0:00:02\n",
      "     ----                                     0.2/2.2 MB 1.1 MB/s eta 0:00:02\n",
      "     -----                                    0.3/2.2 MB 1.1 MB/s eta 0:00:02\n",
      "     -----                                    0.3/2.2 MB 1.2 MB/s eta 0:00:02\n",
      "     ------                                   0.4/2.2 MB 1.1 MB/s eta 0:00:02\n",
      "     -------                                  0.4/2.2 MB 1.1 MB/s eta 0:00:02\n",
      "     --------                                 0.5/2.2 MB 1.2 MB/s eta 0:00:02\n",
      "     ---------                                0.5/2.2 MB 1.2 MB/s eta 0:00:02\n",
      "     ----------                               0.6/2.2 MB 1.2 MB/s eta 0:00:02\n",
      "     -----------                              0.6/2.2 MB 1.2 MB/s eta 0:00:02\n",
      "     ------------                             0.7/2.2 MB 1.2 MB/s eta 0:00:02\n",
      "     -------------                            0.7/2.2 MB 1.2 MB/s eta 0:00:02\n",
      "     --------------                           0.8/2.2 MB 1.2 MB/s eta 0:00:02\n",
      "     ---------------                          0.8/2.2 MB 1.2 MB/s eta 0:00:02\n",
      "     ----------------                         0.9/2.2 MB 1.2 MB/s eta 0:00:02\n",
      "     -----------------                        1.0/2.2 MB 1.2 MB/s eta 0:00:01\n",
      "     ------------------                       1.0/2.2 MB 1.2 MB/s eta 0:00:01\n",
      "     --------------------                     1.1/2.2 MB 1.3 MB/s eta 0:00:01\n",
      "     --------------------                     1.1/2.2 MB 1.3 MB/s eta 0:00:01\n",
      "     ----------------------                   1.2/2.2 MB 1.3 MB/s eta 0:00:01\n",
      "     -----------------------                  1.3/2.2 MB 1.3 MB/s eta 0:00:01\n",
      "     ------------------------                 1.4/2.2 MB 1.3 MB/s eta 0:00:01\n",
      "     -------------------------                1.4/2.2 MB 1.3 MB/s eta 0:00:01\n",
      "     --------------------------               1.5/2.2 MB 1.3 MB/s eta 0:00:01\n",
      "     ----------------------------             1.5/2.2 MB 1.3 MB/s eta 0:00:01\n",
      "     -----------------------------            1.6/2.2 MB 1.3 MB/s eta 0:00:01\n",
      "     ------------------------------           1.7/2.2 MB 1.3 MB/s eta 0:00:01\n",
      "     --------------------------------         1.8/2.2 MB 1.4 MB/s eta 0:00:01\n",
      "     ---------------------------------        1.8/2.2 MB 1.4 MB/s eta 0:00:01\n",
      "     ----------------------------------       1.9/2.2 MB 1.4 MB/s eta 0:00:01\n",
      "     -----------------------------------      2.0/2.2 MB 1.4 MB/s eta 0:00:01\n",
      "     -------------------------------------    2.0/2.2 MB 1.4 MB/s eta 0:00:01\n",
      "     --------------------------------------   2.1/2.2 MB 1.4 MB/s eta 0:00:01\n",
      "     ---------------------------------------  2.2/2.2 MB 1.4 MB/s eta 0:00:01\n",
      "     ---------------------------------------- 2.2/2.2 MB 1.4 MB/s eta 0:00:00\n",
      "Collecting kiwisolver>=1.3.1 (from matplotlib!=3.6.1,>=3.4->seaborn)\n",
      "  Downloading kiwisolver-1.4.5-cp311-cp311-win_amd64.whl (56 kB)\n",
      "                                              0.0/56.1 kB ? eta -:--:--\n",
      "     ---------------------------------------- 56.1/56.1 kB 1.4 MB/s eta 0:00:00\n",
      "Requirement already satisfied: packaging>=20.0 in c:\\users\\91993\\appdata\\local\\packages\\pythonsoftwarefoundation.python.3.11_qbz5n2kfra8p0\\localcache\\local-packages\\python311\\site-packages (from matplotlib!=3.6.1,>=3.4->seaborn) (23.1)\n",
      "Collecting pillow>=8 (from matplotlib!=3.6.1,>=3.4->seaborn)\n",
      "  Downloading pillow-10.3.0-cp311-cp311-win_amd64.whl (2.5 MB)\n",
      "                                              0.0/2.5 MB ? eta -:--:--\n",
      "                                              0.1/2.5 MB 3.4 MB/s eta 0:00:01\n",
      "     --                                       0.1/2.5 MB 2.1 MB/s eta 0:00:02\n",
      "     ---                                      0.2/2.5 MB 1.8 MB/s eta 0:00:02\n",
      "     ----                                     0.3/2.5 MB 1.8 MB/s eta 0:00:02\n",
      "     -----                                    0.4/2.5 MB 1.8 MB/s eta 0:00:02\n",
      "     ------                                   0.4/2.5 MB 1.8 MB/s eta 0:00:02\n",
      "     --------                                 0.5/2.5 MB 1.8 MB/s eta 0:00:02\n",
      "     ---------                                0.6/2.5 MB 1.8 MB/s eta 0:00:02\n",
      "     ----------                               0.7/2.5 MB 1.8 MB/s eta 0:00:02\n",
      "     -----------                              0.7/2.5 MB 1.8 MB/s eta 0:00:01\n",
      "     ------------                             0.8/2.5 MB 1.8 MB/s eta 0:00:01\n",
      "     --------------                           0.9/2.5 MB 1.8 MB/s eta 0:00:01\n",
      "     ---------------                          1.0/2.5 MB 1.8 MB/s eta 0:00:01\n",
      "     ----------------                         1.1/2.5 MB 1.9 MB/s eta 0:00:01\n",
      "     -----------------                        1.1/2.5 MB 1.8 MB/s eta 0:00:01\n",
      "     -------------------                      1.2/2.5 MB 1.8 MB/s eta 0:00:01\n",
      "     --------------------                     1.3/2.5 MB 1.9 MB/s eta 0:00:01\n",
      "     ----------------------                   1.4/2.5 MB 1.9 MB/s eta 0:00:01\n",
      "     -----------------------                  1.5/2.5 MB 1.9 MB/s eta 0:00:01\n",
      "     -------------------------                1.6/2.5 MB 1.9 MB/s eta 0:00:01\n",
      "     --------------------------               1.6/2.5 MB 1.9 MB/s eta 0:00:01\n",
      "     ---------------------------              1.8/2.5 MB 1.9 MB/s eta 0:00:01\n",
      "     ----------------------------             1.8/2.5 MB 1.9 MB/s eta 0:00:01\n",
      "     ------------------------------           1.9/2.5 MB 1.9 MB/s eta 0:00:01\n",
      "     -------------------------------          2.0/2.5 MB 1.9 MB/s eta 0:00:01\n",
      "     ---------------------------------        2.1/2.5 MB 2.0 MB/s eta 0:00:01\n",
      "     -----------------------------------      2.2/2.5 MB 2.0 MB/s eta 0:00:01\n",
      "     ------------------------------------     2.3/2.5 MB 2.0 MB/s eta 0:00:01\n",
      "     --------------------------------------   2.4/2.5 MB 2.0 MB/s eta 0:00:01\n",
      "     ---------------------------------------  2.5/2.5 MB 2.0 MB/s eta 0:00:01\n",
      "     ---------------------------------------- 2.5/2.5 MB 2.0 MB/s eta 0:00:00\n",
      "Collecting pyparsing>=2.3.1 (from matplotlib!=3.6.1,>=3.4->seaborn)\n",
      "  Downloading pyparsing-3.1.2-py3-none-any.whl (103 kB)\n",
      "                                              0.0/103.2 kB ? eta -:--:--\n",
      "     ----------------------------------      92.2/103.2 kB 2.6 MB/s eta 0:00:01\n",
      "     -------------------------------------- 103.2/103.2 kB 2.0 MB/s eta 0:00:00\n",
      "Requirement already satisfied: python-dateutil>=2.7 in c:\\users\\91993\\appdata\\local\\packages\\pythonsoftwarefoundation.python.3.11_qbz5n2kfra8p0\\localcache\\local-packages\\python311\\site-packages (from matplotlib!=3.6.1,>=3.4->seaborn) (2.8.2)\n",
      "Requirement already satisfied: pytz>=2020.1 in c:\\users\\91993\\appdata\\local\\packages\\pythonsoftwarefoundation.python.3.11_qbz5n2kfra8p0\\localcache\\local-packages\\python311\\site-packages (from pandas>=1.2->seaborn) (2024.1)\n",
      "Requirement already satisfied: tzdata>=2022.7 in c:\\users\\91993\\appdata\\local\\packages\\pythonsoftwarefoundation.python.3.11_qbz5n2kfra8p0\\localcache\\local-packages\\python311\\site-packages (from pandas>=1.2->seaborn) (2024.1)\n",
      "Requirement already satisfied: six>=1.5 in c:\\users\\91993\\appdata\\local\\packages\\pythonsoftwarefoundation.python.3.11_qbz5n2kfra8p0\\localcache\\local-packages\\python311\\site-packages (from python-dateutil>=2.7->matplotlib!=3.6.1,>=3.4->seaborn) (1.16.0)\n",
      "Installing collected packages: pyparsing, pillow, kiwisolver, fonttools, cycler, contourpy, matplotlib, seaborn\n",
      "Successfully installed contourpy-1.2.1 cycler-0.12.1 fonttools-4.51.0 kiwisolver-1.4.5 matplotlib-3.8.4 pillow-10.3.0 pyparsing-3.1.2 seaborn-0.13.2\n"
     ]
    },
    {
     "name": "stderr",
     "output_type": "stream",
     "text": [
      "\n",
      "[notice] A new release of pip is available: 23.1.2 -> 24.0\n",
      "[notice] To update, run: C:\\Users\\91993\\AppData\\Local\\Microsoft\\WindowsApps\\PythonSoftwareFoundation.Python.3.11_qbz5n2kfra8p0\\python.exe -m pip install --upgrade pip\n"
     ]
    }
   ],
   "source": []
  },
  {
   "cell_type": "code",
   "execution_count": 143,
   "metadata": {},
   "outputs": [],
   "source": [
    "import numpy as np\n",
    "import pandas as pd\n",
    "import seaborn as sns \n",
    "\n",
    "import matplotlib.pyplot as plt\n",
    "\n",
    "%matplotlib inline"
   ]
  },
  {
   "cell_type": "code",
   "execution_count": 131,
   "metadata": {},
   "outputs": [
    {
     "name": "stdout",
     "output_type": "stream",
     "text": [
      "./Data/gender_submission.csv\n",
      "./Data/test.csv\n",
      "./Data/train.csv\n"
     ]
    }
   ],
   "source": [
    "import os\n",
    "for dirname, _, filenames in os.walk('./Data/'):\n",
    "    for filename in filenames:\n",
    "        print(os.path.join(dirname, filename))"
   ]
  },
  {
   "cell_type": "code",
   "execution_count": 132,
   "metadata": {},
   "outputs": [],
   "source": [
    "DATA_DIR = './Data/'\n",
    "TRAIN_DATA = 'train.csv'\n",
    "TEST_DATA = 'test.csv'"
   ]
  },
  {
   "cell_type": "code",
   "execution_count": 185,
   "metadata": {},
   "outputs": [
    {
     "data": {
      "text/html": [
       "<div>\n",
       "<style scoped>\n",
       "    .dataframe tbody tr th:only-of-type {\n",
       "        vertical-align: middle;\n",
       "    }\n",
       "\n",
       "    .dataframe tbody tr th {\n",
       "        vertical-align: top;\n",
       "    }\n",
       "\n",
       "    .dataframe thead th {\n",
       "        text-align: right;\n",
       "    }\n",
       "</style>\n",
       "<table border=\"1\" class=\"dataframe\">\n",
       "  <thead>\n",
       "    <tr style=\"text-align: right;\">\n",
       "      <th></th>\n",
       "      <th>PassengerId</th>\n",
       "      <th>Survived</th>\n",
       "      <th>Pclass</th>\n",
       "      <th>Name</th>\n",
       "      <th>Sex</th>\n",
       "      <th>Age</th>\n",
       "      <th>SibSp</th>\n",
       "      <th>Parch</th>\n",
       "      <th>Ticket</th>\n",
       "      <th>Fare</th>\n",
       "      <th>Cabin</th>\n",
       "      <th>Embarked</th>\n",
       "    </tr>\n",
       "  </thead>\n",
       "  <tbody>\n",
       "    <tr>\n",
       "      <th>0</th>\n",
       "      <td>1</td>\n",
       "      <td>0</td>\n",
       "      <td>3</td>\n",
       "      <td>Braund, Mr. Owen Harris</td>\n",
       "      <td>male</td>\n",
       "      <td>22.0</td>\n",
       "      <td>1</td>\n",
       "      <td>0</td>\n",
       "      <td>A/5 21171</td>\n",
       "      <td>7.2500</td>\n",
       "      <td>NaN</td>\n",
       "      <td>S</td>\n",
       "    </tr>\n",
       "    <tr>\n",
       "      <th>1</th>\n",
       "      <td>2</td>\n",
       "      <td>1</td>\n",
       "      <td>1</td>\n",
       "      <td>Cumings, Mrs. John Bradley (Florence Briggs Th...</td>\n",
       "      <td>female</td>\n",
       "      <td>38.0</td>\n",
       "      <td>1</td>\n",
       "      <td>0</td>\n",
       "      <td>PC 17599</td>\n",
       "      <td>71.2833</td>\n",
       "      <td>C85</td>\n",
       "      <td>C</td>\n",
       "    </tr>\n",
       "    <tr>\n",
       "      <th>2</th>\n",
       "      <td>3</td>\n",
       "      <td>1</td>\n",
       "      <td>3</td>\n",
       "      <td>Heikkinen, Miss. Laina</td>\n",
       "      <td>female</td>\n",
       "      <td>26.0</td>\n",
       "      <td>0</td>\n",
       "      <td>0</td>\n",
       "      <td>STON/O2. 3101282</td>\n",
       "      <td>7.9250</td>\n",
       "      <td>NaN</td>\n",
       "      <td>S</td>\n",
       "    </tr>\n",
       "    <tr>\n",
       "      <th>3</th>\n",
       "      <td>4</td>\n",
       "      <td>1</td>\n",
       "      <td>1</td>\n",
       "      <td>Futrelle, Mrs. Jacques Heath (Lily May Peel)</td>\n",
       "      <td>female</td>\n",
       "      <td>35.0</td>\n",
       "      <td>1</td>\n",
       "      <td>0</td>\n",
       "      <td>113803</td>\n",
       "      <td>53.1000</td>\n",
       "      <td>C123</td>\n",
       "      <td>S</td>\n",
       "    </tr>\n",
       "    <tr>\n",
       "      <th>4</th>\n",
       "      <td>5</td>\n",
       "      <td>0</td>\n",
       "      <td>3</td>\n",
       "      <td>Allen, Mr. William Henry</td>\n",
       "      <td>male</td>\n",
       "      <td>35.0</td>\n",
       "      <td>0</td>\n",
       "      <td>0</td>\n",
       "      <td>373450</td>\n",
       "      <td>8.0500</td>\n",
       "      <td>NaN</td>\n",
       "      <td>S</td>\n",
       "    </tr>\n",
       "  </tbody>\n",
       "</table>\n",
       "</div>"
      ],
      "text/plain": [
       "   PassengerId  Survived  Pclass  \\\n",
       "0            1         0       3   \n",
       "1            2         1       1   \n",
       "2            3         1       3   \n",
       "3            4         1       1   \n",
       "4            5         0       3   \n",
       "\n",
       "                                                Name     Sex   Age  SibSp  \\\n",
       "0                            Braund, Mr. Owen Harris    male  22.0      1   \n",
       "1  Cumings, Mrs. John Bradley (Florence Briggs Th...  female  38.0      1   \n",
       "2                             Heikkinen, Miss. Laina  female  26.0      0   \n",
       "3       Futrelle, Mrs. Jacques Heath (Lily May Peel)  female  35.0      1   \n",
       "4                           Allen, Mr. William Henry    male  35.0      0   \n",
       "\n",
       "   Parch            Ticket     Fare Cabin Embarked  \n",
       "0      0         A/5 21171   7.2500   NaN        S  \n",
       "1      0          PC 17599  71.2833   C85        C  \n",
       "2      0  STON/O2. 3101282   7.9250   NaN        S  \n",
       "3      0            113803  53.1000  C123        S  \n",
       "4      0            373450   8.0500   NaN        S  "
      ]
     },
     "execution_count": 185,
     "metadata": {},
     "output_type": "execute_result"
    }
   ],
   "source": [
    "train_data = pd.read_csv(DATA_DIR + TRAIN_DATA)\n",
    "test_data = pd.read_csv(DATA_DIR + TEST_DATA)\n",
    "test_ids = test_data[\"PassengerId\"]\n",
    "train_data.head(5)"
   ]
  },
  {
   "cell_type": "code",
   "execution_count": 186,
   "metadata": {},
   "outputs": [
    {
     "name": "stdout",
     "output_type": "stream",
     "text": [
      "Index(['PassengerId', 'Survived', 'Pclass', 'Name', 'Sex', 'Age', 'SibSp',\n",
      "       'Parch', 'Ticket', 'Fare', 'Cabin', 'Embarked'],\n",
      "      dtype='object')\n",
      "Index(['PassengerId', 'Pclass', 'Name', 'Sex', 'Age', 'SibSp', 'Parch',\n",
      "       'Ticket', 'Fare', 'Cabin', 'Embarked'],\n",
      "      dtype='object')\n",
      "11\n"
     ]
    }
   ],
   "source": [
    "print (train_data.columns)\n",
    "print (test_data.columns)\n",
    "print (len(test_data.columns))"
   ]
  },
  {
   "cell_type": "code",
   "execution_count": 187,
   "metadata": {},
   "outputs": [
    {
     "name": "stdout",
     "output_type": "stream",
     "text": [
      "342 people survived.\n",
      "549 people did not survive.\n"
     ]
    }
   ],
   "source": [
    "survivors = train_data.Survived.sum()\n",
    "unsurvivors = len(train_data) - survivors\n",
    "\n",
    "print( survivors, 'people survived.')\n",
    "print( unsurvivors, 'people did not survive.')"
   ]
  },
  {
   "cell_type": "code",
   "execution_count": 188,
   "metadata": {},
   "outputs": [
    {
     "data": {
      "image/png": "[encoded data removed]",
      "text/plain": [
       "<Figure size 640x480 with 1 Axes>"
      ]
     },
     "metadata": {},
     "output_type": "display_data"
    }
   ],
   "source": [
    "plt.hist(train_data.Survived)\n",
    "plt.title('Survived? ')\n",
    "plt.xticks(np.arange(2), ('No', 'Yes'))\n",
    "plt.show()"
   ]
  },
  {
   "cell_type": "code",
   "execution_count": 189,
   "metadata": {},
   "outputs": [
    {
     "data": {
      "text/plain": [
       "0.7710437710437711"
      ]
     },
     "execution_count": 189,
     "metadata": {},
     "output_type": "execute_result"
    }
   ],
   "source": [
    "train_data.Cabin.isnull().sum() / len(train_data)"
   ]
  },
  {
   "cell_type": "code",
   "execution_count": 190,
   "metadata": {},
   "outputs": [
    {
     "data": {
      "text/plain": [
       "<Axes: xlabel='Age', ylabel='Count'>"
      ]
     },
     "execution_count": 190,
     "metadata": {},
     "output_type": "execute_result"
    },
    {
     "data": {
      "image/png": "[encoded data removed]",
      "text/plain": [
       "<Figure size 640x480 with 1 Axes>"
      ]
     },
     "metadata": {},
     "output_type": "display_data"
    }
   ],
   "source": [
    "sns.histplot(train_data.Age.fillna(200))"
   ]
  },
  {
   "cell_type": "markdown",
   "metadata": {},
   "source": [
    "#### Categorical Analysis of Data"
   ]
  },
  {
   "cell_type": "code",
   "execution_count": 191,
   "metadata": {},
   "outputs": [
    {
     "data": {
      "text/html": [
       "<div>\n",
       "<style scoped>\n",
       "    .dataframe tbody tr th:only-of-type {\n",
       "        vertical-align: middle;\n",
       "    }\n",
       "\n",
       "    .dataframe tbody tr th {\n",
       "        vertical-align: top;\n",
       "    }\n",
       "\n",
       "    .dataframe thead th {\n",
       "        text-align: right;\n",
       "    }\n",
       "</style>\n",
       "<table border=\"1\" class=\"dataframe\">\n",
       "  <thead>\n",
       "    <tr style=\"text-align: right;\">\n",
       "      <th></th>\n",
       "      <th>Survived</th>\n",
       "    </tr>\n",
       "    <tr>\n",
       "      <th>Pclass</th>\n",
       "      <th></th>\n",
       "    </tr>\n",
       "  </thead>\n",
       "  <tbody>\n",
       "    <tr>\n",
       "      <th>1</th>\n",
       "      <td>0.629630</td>\n",
       "    </tr>\n",
       "    <tr>\n",
       "      <th>2</th>\n",
       "      <td>0.472826</td>\n",
       "    </tr>\n",
       "    <tr>\n",
       "      <th>3</th>\n",
       "      <td>0.242363</td>\n",
       "    </tr>\n",
       "  </tbody>\n",
       "</table>\n",
       "</div>"
      ],
      "text/plain": [
       "        Survived\n",
       "Pclass          \n",
       "1       0.629630\n",
       "2       0.472826\n",
       "3       0.242363"
      ]
     },
     "execution_count": 191,
     "metadata": {},
     "output_type": "execute_result"
    }
   ],
   "source": [
    "train_data[['Pclass', 'Survived']].groupby('Pclass').mean().sort_values(by='Survived', ascending=False)"
   ]
  },
  {
   "cell_type": "code",
   "execution_count": 192,
   "metadata": {},
   "outputs": [
    {
     "data": {
      "text/html": [
       "<div>\n",
       "<style scoped>\n",
       "    .dataframe tbody tr th:only-of-type {\n",
       "        vertical-align: middle;\n",
       "    }\n",
       "\n",
       "    .dataframe tbody tr th {\n",
       "        vertical-align: top;\n",
       "    }\n",
       "\n",
       "    .dataframe thead th {\n",
       "        text-align: right;\n",
       "    }\n",
       "</style>\n",
       "<table border=\"1\" class=\"dataframe\">\n",
       "  <thead>\n",
       "    <tr style=\"text-align: right;\">\n",
       "      <th></th>\n",
       "      <th>Survived</th>\n",
       "    </tr>\n",
       "    <tr>\n",
       "      <th>Sex</th>\n",
       "      <th></th>\n",
       "    </tr>\n",
       "  </thead>\n",
       "  <tbody>\n",
       "    <tr>\n",
       "      <th>female</th>\n",
       "      <td>0.742038</td>\n",
       "    </tr>\n",
       "    <tr>\n",
       "      <th>male</th>\n",
       "      <td>0.188908</td>\n",
       "    </tr>\n",
       "  </tbody>\n",
       "</table>\n",
       "</div>"
      ],
      "text/plain": [
       "        Survived\n",
       "Sex             \n",
       "female  0.742038\n",
       "male    0.188908"
      ]
     },
     "execution_count": 192,
     "metadata": {},
     "output_type": "execute_result"
    }
   ],
   "source": [
    "train_data[['Sex', 'Survived']].groupby('Sex').mean().sort_values(by='Survived', ascending=False)"
   ]
  },
  {
   "cell_type": "code",
   "execution_count": 193,
   "metadata": {},
   "outputs": [
    {
     "data": {
      "text/html": [
       "<div>\n",
       "<style scoped>\n",
       "    .dataframe tbody tr th:only-of-type {\n",
       "        vertical-align: middle;\n",
       "    }\n",
       "\n",
       "    .dataframe tbody tr th {\n",
       "        vertical-align: top;\n",
       "    }\n",
       "\n",
       "    .dataframe thead th {\n",
       "        text-align: right;\n",
       "    }\n",
       "</style>\n",
       "<table border=\"1\" class=\"dataframe\">\n",
       "  <thead>\n",
       "    <tr style=\"text-align: right;\">\n",
       "      <th></th>\n",
       "      <th>Survived</th>\n",
       "    </tr>\n",
       "    <tr>\n",
       "      <th>Embarked</th>\n",
       "      <th></th>\n",
       "    </tr>\n",
       "  </thead>\n",
       "  <tbody>\n",
       "    <tr>\n",
       "      <th>C</th>\n",
       "      <td>0.553571</td>\n",
       "    </tr>\n",
       "    <tr>\n",
       "      <th>Q</th>\n",
       "      <td>0.389610</td>\n",
       "    </tr>\n",
       "    <tr>\n",
       "      <th>S</th>\n",
       "      <td>0.336957</td>\n",
       "    </tr>\n",
       "  </tbody>\n",
       "</table>\n",
       "</div>"
      ],
      "text/plain": [
       "          Survived\n",
       "Embarked          \n",
       "C         0.553571\n",
       "Q         0.389610\n",
       "S         0.336957"
      ]
     },
     "execution_count": 193,
     "metadata": {},
     "output_type": "execute_result"
    }
   ],
   "source": [
    "train_data[['Embarked', 'Survived']].groupby('Embarked').mean().sort_values(by='Survived', ascending=False)"
   ]
  },
  {
   "cell_type": "code",
   "execution_count": 194,
   "metadata": {},
   "outputs": [
    {
     "data": {
      "text/plain": [
       "<Axes: xlabel='Age', ylabel='Count'>"
      ]
     },
     "execution_count": 194,
     "metadata": {},
     "output_type": "execute_result"
    },
    {
     "data": {
      "image/png": "[encoded data removed]",
      "text/plain": [
       "<Figure size 640x480 with 1 Axes>"
      ]
     },
     "metadata": {},
     "output_type": "display_data"
    }
   ],
   "source": [
    "sns.histplot(train_data.Age.dropna())"
   ]
  },
  {
   "cell_type": "code",
   "execution_count": 195,
   "metadata": {},
   "outputs": [
    {
     "data": {
      "text/plain": [
       "<Axes: xlabel='Fare', ylabel='Count'>"
      ]
     },
     "execution_count": 195,
     "metadata": {},
     "output_type": "execute_result"
    },
    {
     "data": {
      "image/png": "[encoded data removed]",
      "text/plain": [
       "<Figure size 640x480 with 1 Axes>"
      ]
     },
     "metadata": {},
     "output_type": "display_data"
    }
   ],
   "source": [
    "sns.histplot(train_data.Fare.dropna())"
   ]
  },
  {
   "cell_type": "code",
   "execution_count": 196,
   "metadata": {},
   "outputs": [
    {
     "name": "stdout",
     "output_type": "stream",
     "text": [
      "<seaborn.axisgrid.FacetGrid object at 0x0000022AF8C3E710>\n"
     ]
    },
    {
     "data": {
      "image/png": "[encoded data removed]",
      "text/plain": [
       "<Figure size 600x300 with 2 Axes>"
      ]
     },
     "metadata": {},
     "output_type": "display_data"
    }
   ],
   "source": [
    "num = sns.FacetGrid(train_data, col='Survived')\n",
    "print(num.map(plt.hist, 'Age', bins=40))"
   ]
  },
  {
   "cell_type": "code",
   "execution_count": 197,
   "metadata": {},
   "outputs": [
    {
     "name": "stdout",
     "output_type": "stream",
     "text": [
      "<seaborn.axisgrid.FacetGrid object at 0x0000022AF8BEB590>\n"
     ]
    },
    {
     "data": {
      "image/png": "[encoded data removed]",
      "text/plain": [
       "<Figure size 600x300 with 2 Axes>"
      ]
     },
     "metadata": {},
     "output_type": "display_data"
    }
   ],
   "source": [
    "num = sns.FacetGrid(train_data, col='Survived')\n",
    "print(num.map(plt.hist, 'Fare', bins=40))"
   ]
  },
  {
   "cell_type": "markdown",
   "metadata": {},
   "source": [
    "#### Feature Cleaning"
   ]
  },
  {
   "cell_type": "code",
   "execution_count": 198,
   "metadata": {},
   "outputs": [
    {
     "name": "stderr",
     "output_type": "stream",
     "text": [
      "C:\\Users\\91993\\AppData\\Local\\Temp\\ipykernel_27152\\237132361.py:4: FutureWarning: A value is trying to be set on a copy of a DataFrame or Series through chained assignment using an inplace method.\n",
      "The behavior will change in pandas 3.0. This inplace method will never work because the intermediate object on which we are setting values always behaves as a copy.\n",
      "\n",
      "For example, when doing 'df[col].method(value, inplace=True)', try using 'df.method({col: value}, inplace=True)' or df[col] = df[col].method(value) instead, to perform the operation inplace on the original object.\n",
      "\n",
      "\n",
      "  data.Cabin.fillna(\"NA\", inplace=True)\n",
      "C:\\Users\\91993\\AppData\\Local\\Temp\\ipykernel_27152\\237132361.py:10: FutureWarning: A value is trying to be set on a copy of a DataFrame or Series through chained assignment using an inplace method.\n",
      "The behavior will change in pandas 3.0. This inplace method will never work because the intermediate object on which we are setting values always behaves as a copy.\n",
      "\n",
      "For example, when doing 'df[col].method(value, inplace=True)', try using 'df.method({col: value}, inplace=True)' or df[col] = df[col].method(value) instead, to perform the operation inplace on the original object.\n",
      "\n",
      "\n",
      "  data[col].fillna(fillin_data['A'], inplace=True)\n",
      "C:\\Users\\91993\\AppData\\Local\\Temp\\ipykernel_27152\\237132361.py:10: FutureWarning: A value is trying to be set on a copy of a DataFrame or Series through chained assignment using an inplace method.\n",
      "The behavior will change in pandas 3.0. This inplace method will never work because the intermediate object on which we are setting values always behaves as a copy.\n",
      "\n",
      "For example, when doing 'df[col].method(value, inplace=True)', try using 'df.method({col: value}, inplace=True)' or df[col] = df[col].method(value) instead, to perform the operation inplace on the original object.\n",
      "\n",
      "\n",
      "  data[col].fillna(fillin_data['A'], inplace=True)\n",
      "C:\\Users\\91993\\AppData\\Local\\Temp\\ipykernel_27152\\237132361.py:10: FutureWarning: A value is trying to be set on a copy of a DataFrame or Series through chained assignment using an inplace method.\n",
      "The behavior will change in pandas 3.0. This inplace method will never work because the intermediate object on which we are setting values always behaves as a copy.\n",
      "\n",
      "For example, when doing 'df[col].method(value, inplace=True)', try using 'df.method({col: value}, inplace=True)' or df[col] = df[col].method(value) instead, to perform the operation inplace on the original object.\n",
      "\n",
      "\n",
      "  data[col].fillna(fillin_data['A'], inplace=True)\n",
      "C:\\Users\\91993\\AppData\\Local\\Temp\\ipykernel_27152\\237132361.py:12: FutureWarning: A value is trying to be set on a copy of a DataFrame or Series through chained assignment using an inplace method.\n",
      "The behavior will change in pandas 3.0. This inplace method will never work because the intermediate object on which we are setting values always behaves as a copy.\n",
      "\n",
      "For example, when doing 'df[col].method(value, inplace=True)', try using 'df.method({col: value}, inplace=True)' or df[col] = df[col].method(value) instead, to perform the operation inplace on the original object.\n",
      "\n",
      "\n",
      "  data.Embarked.fillna(\"U\", inplace=True)\n",
      "C:\\Users\\91993\\AppData\\Local\\Temp\\ipykernel_27152\\237132361.py:4: FutureWarning: A value is trying to be set on a copy of a DataFrame or Series through chained assignment using an inplace method.\n",
      "The behavior will change in pandas 3.0. This inplace method will never work because the intermediate object on which we are setting values always behaves as a copy.\n",
      "\n",
      "For example, when doing 'df[col].method(value, inplace=True)', try using 'df.method({col: value}, inplace=True)' or df[col] = df[col].method(value) instead, to perform the operation inplace on the original object.\n",
      "\n",
      "\n",
      "  data.Cabin.fillna(\"NA\", inplace=True)\n",
      "C:\\Users\\91993\\AppData\\Local\\Temp\\ipykernel_27152\\237132361.py:10: FutureWarning: A value is trying to be set on a copy of a DataFrame or Series through chained assignment using an inplace method.\n",
      "The behavior will change in pandas 3.0. This inplace method will never work because the intermediate object on which we are setting values always behaves as a copy.\n",
      "\n",
      "For example, when doing 'df[col].method(value, inplace=True)', try using 'df.method({col: value}, inplace=True)' or df[col] = df[col].method(value) instead, to perform the operation inplace on the original object.\n",
      "\n",
      "\n",
      "  data[col].fillna(fillin_data['A'], inplace=True)\n",
      "C:\\Users\\91993\\AppData\\Local\\Temp\\ipykernel_27152\\237132361.py:10: FutureWarning: A value is trying to be set on a copy of a DataFrame or Series through chained assignment using an inplace method.\n",
      "The behavior will change in pandas 3.0. This inplace method will never work because the intermediate object on which we are setting values always behaves as a copy.\n",
      "\n",
      "For example, when doing 'df[col].method(value, inplace=True)', try using 'df.method({col: value}, inplace=True)' or df[col] = df[col].method(value) instead, to perform the operation inplace on the original object.\n",
      "\n",
      "\n",
      "  data[col].fillna(fillin_data['A'], inplace=True)\n",
      "C:\\Users\\91993\\AppData\\Local\\Temp\\ipykernel_27152\\237132361.py:10: FutureWarning: A value is trying to be set on a copy of a DataFrame or Series through chained assignment using an inplace method.\n",
      "The behavior will change in pandas 3.0. This inplace method will never work because the intermediate object on which we are setting values always behaves as a copy.\n",
      "\n",
      "For example, when doing 'df[col].method(value, inplace=True)', try using 'df.method({col: value}, inplace=True)' or df[col] = df[col].method(value) instead, to perform the operation inplace on the original object.\n",
      "\n",
      "\n",
      "  data[col].fillna(fillin_data['A'], inplace=True)\n",
      "C:\\Users\\91993\\AppData\\Local\\Temp\\ipykernel_27152\\237132361.py:12: FutureWarning: A value is trying to be set on a copy of a DataFrame or Series through chained assignment using an inplace method.\n",
      "The behavior will change in pandas 3.0. This inplace method will never work because the intermediate object on which we are setting values always behaves as a copy.\n",
      "\n",
      "For example, when doing 'df[col].method(value, inplace=True)', try using 'df.method({col: value}, inplace=True)' or df[col] = df[col].method(value) instead, to perform the operation inplace on the original object.\n",
      "\n",
      "\n",
      "  data.Embarked.fillna(\"U\", inplace=True)\n"
     ]
    }
   ],
   "source": [
    "def clean(data):\n",
    "    data.drop([\"Ticket\", \"PassengerId\"], axis=1, inplace=True)\n",
    "    cols = [\"SibSp\", \"Parch\", \"Fare\"]\n",
    "    data.Cabin.fillna(\"NA\", inplace=True)\n",
    "    data.Cabin = data.Cabin.apply(lambda x : x[0])\n",
    "    for col in cols:\n",
    "        fillin_data = data.sort_values('Cabin').groupby('Cabin')[col].median()\n",
    "        temp_med = data[col].median()\n",
    "        data[col] = np.where(data[col].isnull(), data.Cabin.apply(lambda x: fillin_data[x] if fillin_data[x] > temp_med else temp_med), data[col])\n",
    "        data[col].fillna(fillin_data['A'], inplace=True)\n",
    "\n",
    "    data.Embarked.fillna(\"U\", inplace=True)\n",
    "\n",
    "    data['Title'] = data.apply(lambda x: x.Name.split(',')[1].split('.')[0][1:], axis = 1)\n",
    "    data.drop([\"Name\"], axis=1, inplace=True)\n",
    "\n",
    "    title_map = {'Mlle':'Miss','Ms':'Miss','Mlle':'Miss', \n",
    "             'Mme':'Mrs', \n",
    "             'Dr':'Other','Rev':'Other', 'Major':'Other', 'Col':'Other', 'Sir':'Other', 'Dona':'Other',\n",
    "             'Capt':'Other', 'Lady':'Other','Jonkheer':'Other', 'Don':'Other', 'the Countess':'Other',\n",
    "            'Mr':'Mr',\n",
    "            'Miss':'Miss',\n",
    "            'Mrs':'Mrs',\n",
    "            'Master':'Master'}\n",
    "    data['Title'] = data['Title'].map(title_map)\n",
    "\n",
    "    cat = [\"Sex\", \"Pclass\", \"Title\"]\n",
    "\n",
    "    data_age = data[cat + [\"Age\"]]\n",
    "    data_mean = round(data_age.dropna().groupby(cat, as_index=True).median(), 1)\n",
    "\n",
    "    def get_age(var, sex, pclass, title):\n",
    "        if np.isnan(var):\n",
    "            mean = data_mean['Age'][sex][pclass][title]\n",
    "        else:\n",
    "            mean = var\n",
    "        return mean\n",
    "    \n",
    "    data['Age'] = data.apply(lambda x: get_age(x.Age, x.Sex, x.Pclass, x.Title), axis=1)\n",
    "    return data\n",
    "\n",
    "train_data = clean(train_data)\n",
    "test_data = clean(test_data)"
   ]
  },
  {
   "cell_type": "code",
   "execution_count": 199,
   "metadata": {},
   "outputs": [
    {
     "data": {
      "text/html": [
       "<div>\n",
       "<style scoped>\n",
       "    .dataframe tbody tr th:only-of-type {\n",
       "        vertical-align: middle;\n",
       "    }\n",
       "\n",
       "    .dataframe tbody tr th {\n",
       "        vertical-align: top;\n",
       "    }\n",
       "\n",
       "    .dataframe thead th {\n",
       "        text-align: right;\n",
       "    }\n",
       "</style>\n",
       "<table border=\"1\" class=\"dataframe\">\n",
       "  <thead>\n",
       "    <tr style=\"text-align: right;\">\n",
       "      <th></th>\n",
       "      <th>Survived</th>\n",
       "      <th>Pclass</th>\n",
       "      <th>Sex</th>\n",
       "      <th>Age</th>\n",
       "      <th>SibSp</th>\n",
       "      <th>Parch</th>\n",
       "      <th>Fare</th>\n",
       "      <th>Cabin</th>\n",
       "      <th>Embarked</th>\n",
       "      <th>Title</th>\n",
       "    </tr>\n",
       "  </thead>\n",
       "  <tbody>\n",
       "    <tr>\n",
       "      <th>0</th>\n",
       "      <td>0</td>\n",
       "      <td>3</td>\n",
       "      <td>male</td>\n",
       "      <td>22.0</td>\n",
       "      <td>1.0</td>\n",
       "      <td>0.0</td>\n",
       "      <td>7.2500</td>\n",
       "      <td>N</td>\n",
       "      <td>S</td>\n",
       "      <td>Mr</td>\n",
       "    </tr>\n",
       "    <tr>\n",
       "      <th>1</th>\n",
       "      <td>1</td>\n",
       "      <td>1</td>\n",
       "      <td>female</td>\n",
       "      <td>38.0</td>\n",
       "      <td>1.0</td>\n",
       "      <td>0.0</td>\n",
       "      <td>71.2833</td>\n",
       "      <td>C</td>\n",
       "      <td>C</td>\n",
       "      <td>Mrs</td>\n",
       "    </tr>\n",
       "    <tr>\n",
       "      <th>2</th>\n",
       "      <td>1</td>\n",
       "      <td>3</td>\n",
       "      <td>female</td>\n",
       "      <td>26.0</td>\n",
       "      <td>0.0</td>\n",
       "      <td>0.0</td>\n",
       "      <td>7.9250</td>\n",
       "      <td>N</td>\n",
       "      <td>S</td>\n",
       "      <td>Miss</td>\n",
       "    </tr>\n",
       "    <tr>\n",
       "      <th>3</th>\n",
       "      <td>1</td>\n",
       "      <td>1</td>\n",
       "      <td>female</td>\n",
       "      <td>35.0</td>\n",
       "      <td>1.0</td>\n",
       "      <td>0.0</td>\n",
       "      <td>53.1000</td>\n",
       "      <td>C</td>\n",
       "      <td>S</td>\n",
       "      <td>Mrs</td>\n",
       "    </tr>\n",
       "    <tr>\n",
       "      <th>4</th>\n",
       "      <td>0</td>\n",
       "      <td>3</td>\n",
       "      <td>male</td>\n",
       "      <td>35.0</td>\n",
       "      <td>0.0</td>\n",
       "      <td>0.0</td>\n",
       "      <td>8.0500</td>\n",
       "      <td>N</td>\n",
       "      <td>S</td>\n",
       "      <td>Mr</td>\n",
       "    </tr>\n",
       "  </tbody>\n",
       "</table>\n",
       "</div>"
      ],
      "text/plain": [
       "   Survived  Pclass     Sex   Age  SibSp  Parch     Fare Cabin Embarked Title\n",
       "0         0       3    male  22.0    1.0    0.0   7.2500     N        S    Mr\n",
       "1         1       1  female  38.0    1.0    0.0  71.2833     C        C   Mrs\n",
       "2         1       3  female  26.0    0.0    0.0   7.9250     N        S  Miss\n",
       "3         1       1  female  35.0    1.0    0.0  53.1000     C        S   Mrs\n",
       "4         0       3    male  35.0    0.0    0.0   8.0500     N        S    Mr"
      ]
     },
     "execution_count": 199,
     "metadata": {},
     "output_type": "execute_result"
    }
   ],
   "source": [
    "train_data.head()"
   ]
  },
  {
   "cell_type": "code",
   "execution_count": 200,
   "metadata": {},
   "outputs": [
    {
     "data": {
      "text/plain": [
       "Title\n",
       "Mr        517\n",
       "Miss      185\n",
       "Mrs       126\n",
       "Master     40\n",
       "Other      23\n",
       "Name: Pclass, dtype: int64"
      ]
     },
     "execution_count": 200,
     "metadata": {},
     "output_type": "execute_result"
    }
   ],
   "source": [
    "train_data.groupby('Title').count().sort_values(by='Survived', ascending=False)['Pclass']"
   ]
  },
  {
   "cell_type": "code",
   "execution_count": 201,
   "metadata": {},
   "outputs": [
    {
     "data": {
      "text/plain": [
       "Title\n",
       "Mr        240\n",
       "Miss       79\n",
       "Mrs        72\n",
       "Master     21\n",
       "Other       6\n",
       "Name: Pclass, dtype: int64"
      ]
     },
     "execution_count": 201,
     "metadata": {},
     "output_type": "execute_result"
    }
   ],
   "source": [
    "test_data.groupby('Title').count().sort_values(by='Pclass', ascending=False)['Pclass']"
   ]
  },
  {
   "cell_type": "code",
   "execution_count": 202,
   "metadata": {},
   "outputs": [
    {
     "data": {
      "text/html": [
       "<div>\n",
       "<style scoped>\n",
       "    .dataframe tbody tr th:only-of-type {\n",
       "        vertical-align: middle;\n",
       "    }\n",
       "\n",
       "    .dataframe tbody tr th {\n",
       "        vertical-align: top;\n",
       "    }\n",
       "\n",
       "    .dataframe thead th {\n",
       "        text-align: right;\n",
       "    }\n",
       "</style>\n",
       "<table border=\"1\" class=\"dataframe\">\n",
       "  <thead>\n",
       "    <tr style=\"text-align: right;\">\n",
       "      <th></th>\n",
       "      <th>Survived</th>\n",
       "    </tr>\n",
       "    <tr>\n",
       "      <th>Title</th>\n",
       "      <th></th>\n",
       "    </tr>\n",
       "  </thead>\n",
       "  <tbody>\n",
       "    <tr>\n",
       "      <th>Mrs</th>\n",
       "      <td>0.793651</td>\n",
       "    </tr>\n",
       "    <tr>\n",
       "      <th>Miss</th>\n",
       "      <td>0.702703</td>\n",
       "    </tr>\n",
       "    <tr>\n",
       "      <th>Master</th>\n",
       "      <td>0.575000</td>\n",
       "    </tr>\n",
       "    <tr>\n",
       "      <th>Other</th>\n",
       "      <td>0.347826</td>\n",
       "    </tr>\n",
       "    <tr>\n",
       "      <th>Mr</th>\n",
       "      <td>0.156673</td>\n",
       "    </tr>\n",
       "  </tbody>\n",
       "</table>\n",
       "</div>"
      ],
      "text/plain": [
       "        Survived\n",
       "Title           \n",
       "Mrs     0.793651\n",
       "Miss    0.702703\n",
       "Master  0.575000\n",
       "Other   0.347826\n",
       "Mr      0.156673"
      ]
     },
     "execution_count": 202,
     "metadata": {},
     "output_type": "execute_result"
    }
   ],
   "source": [
    "train_data[['Title', 'Survived']].groupby('Title').mean().sort_values(by='Survived', ascending=False)"
   ]
  },
  {
   "cell_type": "code",
   "execution_count": 204,
   "metadata": {},
   "outputs": [
    {
     "name": "stdout",
     "output_type": "stream",
     "text": [
      "<seaborn.axisgrid.FacetGrid object at 0x0000022AFA0898D0>\n"
     ]
    },
    {
     "data": {
      "image/png": "[encoded data removed]",
      "text/plain": [
       "<Figure size 600x300 with 2 Axes>"
      ]
     },
     "metadata": {},
     "output_type": "display_data"
    }
   ],
   "source": [
    "num = sns.FacetGrid(train_data, col='Survived')\n",
    "print(num.map(plt.hist, 'Age', bins=40))"
   ]
  },
  {
   "cell_type": "code",
   "execution_count": 206,
   "metadata": {},
   "outputs": [
    {
     "name": "stdout",
     "output_type": "stream",
     "text": [
      "Lambda: 0.770098\n"
     ]
    },
    {
     "data": {
      "image/png": "[encoded data removed]",
      "text/plain": [
       "<Figure size 640x480 with 1 Axes>"
      ]
     },
     "metadata": {},
     "output_type": "display_data"
    },
    {
     "data": {
      "image/png": "[encoded data removed]",
      "text/plain": [
       "<Figure size 640x480 with 1 Axes>"
      ]
     },
     "metadata": {},
     "output_type": "display_data"
    }
   ],
   "source": [
    "from scipy.stats import boxcox\n",
    "from matplotlib import pyplot\n",
    "train_data['Age2'], lam_age = boxcox(train_data['Age'])\n",
    "print('Lambda: %f' % lam_age)\n",
    "\n",
    "# histogram\n",
    "pyplot.hist(train_data['Age'])\n",
    "pyplot.show()\n",
    "\n",
    "pyplot.hist(train_data['Age2'])\n",
    "pyplot.show()"
   ]
  },
  {
   "cell_type": "code",
   "execution_count": 208,
   "metadata": {},
   "outputs": [],
   "source": [
    "train_data.drop(['Age2'], inplace=True, axis=1)\n",
    "def get_transform(var):\n",
    "    return (var**lam_age - 1) / lam_age\n",
    "\n",
    "train_data['Age'] = train_data.apply(lambda x: get_transform(x.Age),axis=1)\n",
    "test_data['Age'] = test_data.apply(lambda x: get_transform(x.Age),axis=1)"
   ]
  },
  {
   "cell_type": "code",
   "execution_count": 209,
   "metadata": {},
   "outputs": [
    {
     "data": {
      "text/plain": [
       "<Axes: xlabel='Age', ylabel='Count'>"
      ]
     },
     "execution_count": 209,
     "metadata": {},
     "output_type": "execute_result"
    },
    {
     "data": {
      "image/png": "[encoded data removed]",
      "text/plain": [
       "<Figure size 640x480 with 1 Axes>"
      ]
     },
     "metadata": {},
     "output_type": "display_data"
    }
   ],
   "source": [
    "sns.histplot(train_data['Age'])"
   ]
  },
  {
   "cell_type": "code",
   "execution_count": 210,
   "metadata": {},
   "outputs": [],
   "source": [
    "def get_family_size(Parch, SibSp):\n",
    "    \"\"\"\n",
    "    Return the size of the family \n",
    "    \n",
    "    +1 comes from we need to add the person to the size of the family.\n",
    "    \n",
    "    \"\"\"\n",
    "    return Parch + SibSp + 1"
   ]
  },
  {
   "cell_type": "code",
   "execution_count": 211,
   "metadata": {},
   "outputs": [],
   "source": [
    "train_data['FamilySize'] = train_data.apply(lambda x : get_family_size(x.Parch, x.SibSp), axis = 1)\n",
    "test_data['FamilySize'] = test_data.apply(lambda x : get_family_size(x.Parch, x.SibSp), axis = 1)"
   ]
  },
  {
   "cell_type": "code",
   "execution_count": 212,
   "metadata": {},
   "outputs": [
    {
     "data": {
      "text/html": [
       "<div>\n",
       "<style scoped>\n",
       "    .dataframe tbody tr th:only-of-type {\n",
       "        vertical-align: middle;\n",
       "    }\n",
       "\n",
       "    .dataframe tbody tr th {\n",
       "        vertical-align: top;\n",
       "    }\n",
       "\n",
       "    .dataframe thead th {\n",
       "        text-align: right;\n",
       "    }\n",
       "</style>\n",
       "<table border=\"1\" class=\"dataframe\">\n",
       "  <thead>\n",
       "    <tr style=\"text-align: right;\">\n",
       "      <th></th>\n",
       "      <th>Survived</th>\n",
       "    </tr>\n",
       "    <tr>\n",
       "      <th>FamilySize</th>\n",
       "      <th></th>\n",
       "    </tr>\n",
       "  </thead>\n",
       "  <tbody>\n",
       "    <tr>\n",
       "      <th>4.0</th>\n",
       "      <td>0.724138</td>\n",
       "    </tr>\n",
       "    <tr>\n",
       "      <th>3.0</th>\n",
       "      <td>0.578431</td>\n",
       "    </tr>\n",
       "    <tr>\n",
       "      <th>2.0</th>\n",
       "      <td>0.552795</td>\n",
       "    </tr>\n",
       "    <tr>\n",
       "      <th>7.0</th>\n",
       "      <td>0.333333</td>\n",
       "    </tr>\n",
       "    <tr>\n",
       "      <th>1.0</th>\n",
       "      <td>0.303538</td>\n",
       "    </tr>\n",
       "    <tr>\n",
       "      <th>5.0</th>\n",
       "      <td>0.200000</td>\n",
       "    </tr>\n",
       "    <tr>\n",
       "      <th>6.0</th>\n",
       "      <td>0.136364</td>\n",
       "    </tr>\n",
       "    <tr>\n",
       "      <th>8.0</th>\n",
       "      <td>0.000000</td>\n",
       "    </tr>\n",
       "    <tr>\n",
       "      <th>11.0</th>\n",
       "      <td>0.000000</td>\n",
       "    </tr>\n",
       "  </tbody>\n",
       "</table>\n",
       "</div>"
      ],
      "text/plain": [
       "            Survived\n",
       "FamilySize          \n",
       "4.0         0.724138\n",
       "3.0         0.578431\n",
       "2.0         0.552795\n",
       "7.0         0.333333\n",
       "1.0         0.303538\n",
       "5.0         0.200000\n",
       "6.0         0.136364\n",
       "8.0         0.000000\n",
       "11.0        0.000000"
      ]
     },
     "execution_count": 212,
     "metadata": {},
     "output_type": "execute_result"
    }
   ],
   "source": [
    "train_data[[\"FamilySize\", \"Survived\"]].groupby(['FamilySize']).mean().sort_values(by='Survived', ascending=False)"
   ]
  },
  {
   "cell_type": "code",
   "execution_count": 214,
   "metadata": {},
   "outputs": [],
   "source": [
    "def get_family_type(var):\n",
    "    \"\"\"\n",
    "    take the size (integer) of the family and return a category (3 labels)\n",
    "    \n",
    "    \"\"\"\n",
    "    if var == 1:\n",
    "        return 'alone'\n",
    "    elif var<=4:\n",
    "        return 'small'\n",
    "    else:\n",
    "        return 'big'"
   ]
  },
  {
   "cell_type": "code",
   "execution_count": 215,
   "metadata": {},
   "outputs": [],
   "source": [
    "train_data[\"FamilyType\"] = train_data.apply(lambda x : get_family_type(x.FamilySize), axis=1)\n",
    "test_data[\"FamilyType\"] = test_data.apply(lambda x : get_family_type(x.FamilySize), axis=1)"
   ]
  },
  {
   "cell_type": "code",
   "execution_count": 216,
   "metadata": {},
   "outputs": [
    {
     "data": {
      "text/html": [
       "<div>\n",
       "<style scoped>\n",
       "    .dataframe tbody tr th:only-of-type {\n",
       "        vertical-align: middle;\n",
       "    }\n",
       "\n",
       "    .dataframe tbody tr th {\n",
       "        vertical-align: top;\n",
       "    }\n",
       "\n",
       "    .dataframe thead th {\n",
       "        text-align: right;\n",
       "    }\n",
       "</style>\n",
       "<table border=\"1\" class=\"dataframe\">\n",
       "  <thead>\n",
       "    <tr style=\"text-align: right;\">\n",
       "      <th></th>\n",
       "      <th>Survived</th>\n",
       "    </tr>\n",
       "    <tr>\n",
       "      <th>FamilyType</th>\n",
       "      <th></th>\n",
       "    </tr>\n",
       "  </thead>\n",
       "  <tbody>\n",
       "    <tr>\n",
       "      <th>small</th>\n",
       "      <td>0.578767</td>\n",
       "    </tr>\n",
       "    <tr>\n",
       "      <th>alone</th>\n",
       "      <td>0.303538</td>\n",
       "    </tr>\n",
       "    <tr>\n",
       "      <th>big</th>\n",
       "      <td>0.161290</td>\n",
       "    </tr>\n",
       "  </tbody>\n",
       "</table>\n",
       "</div>"
      ],
      "text/plain": [
       "            Survived\n",
       "FamilyType          \n",
       "small       0.578767\n",
       "alone       0.303538\n",
       "big         0.161290"
      ]
     },
     "execution_count": 216,
     "metadata": {},
     "output_type": "execute_result"
    }
   ],
   "source": [
    "train_data[[\"FamilyType\", \"Survived\"]].groupby(['FamilyType']).mean().sort_values(by='Survived', ascending=False)"
   ]
  },
  {
   "cell_type": "code",
   "execution_count": 217,
   "metadata": {},
   "outputs": [],
   "source": [
    "train_data.drop(['FamilySize', 'Parch', 'SibSp'], axis = 1, inplace=True)\n",
    "test_data.drop(['FamilySize', 'Parch', 'SibSp'], axis = 1, inplace=True)"
   ]
  },
  {
   "cell_type": "code",
   "execution_count": 234,
   "metadata": {},
   "outputs": [
    {
     "data": {
      "text/html": [
       "<div>\n",
       "<style scoped>\n",
       "    .dataframe tbody tr th:only-of-type {\n",
       "        vertical-align: middle;\n",
       "    }\n",
       "\n",
       "    .dataframe tbody tr th {\n",
       "        vertical-align: top;\n",
       "    }\n",
       "\n",
       "    .dataframe thead th {\n",
       "        text-align: right;\n",
       "    }\n",
       "</style>\n",
       "<table border=\"1\" class=\"dataframe\">\n",
       "  <thead>\n",
       "    <tr style=\"text-align: right;\">\n",
       "      <th></th>\n",
       "      <th>Survived</th>\n",
       "      <th>Pclass</th>\n",
       "      <th>Sex</th>\n",
       "      <th>Age</th>\n",
       "      <th>Fare</th>\n",
       "      <th>Cabin</th>\n",
       "      <th>Embarked</th>\n",
       "      <th>Title</th>\n",
       "      <th>FamilyType</th>\n",
       "    </tr>\n",
       "  </thead>\n",
       "  <tbody>\n",
       "    <tr>\n",
       "      <th>0</th>\n",
       "      <td>0</td>\n",
       "      <td>3</td>\n",
       "      <td>1</td>\n",
       "      <td>12.737725</td>\n",
       "      <td>7.2500</td>\n",
       "      <td>7</td>\n",
       "      <td>2</td>\n",
       "      <td>2</td>\n",
       "      <td>2</td>\n",
       "    </tr>\n",
       "    <tr>\n",
       "      <th>1</th>\n",
       "      <td>1</td>\n",
       "      <td>1</td>\n",
       "      <td>0</td>\n",
       "      <td>20.083187</td>\n",
       "      <td>71.2833</td>\n",
       "      <td>2</td>\n",
       "      <td>0</td>\n",
       "      <td>3</td>\n",
       "      <td>2</td>\n",
       "    </tr>\n",
       "    <tr>\n",
       "      <th>2</th>\n",
       "      <td>1</td>\n",
       "      <td>3</td>\n",
       "      <td>0</td>\n",
       "      <td>14.664761</td>\n",
       "      <td>7.9250</td>\n",
       "      <td>7</td>\n",
       "      <td>2</td>\n",
       "      <td>1</td>\n",
       "      <td>0</td>\n",
       "    </tr>\n",
       "    <tr>\n",
       "      <th>3</th>\n",
       "      <td>1</td>\n",
       "      <td>1</td>\n",
       "      <td>0</td>\n",
       "      <td>18.771040</td>\n",
       "      <td>53.1000</td>\n",
       "      <td>2</td>\n",
       "      <td>2</td>\n",
       "      <td>3</td>\n",
       "      <td>2</td>\n",
       "    </tr>\n",
       "    <tr>\n",
       "      <th>4</th>\n",
       "      <td>0</td>\n",
       "      <td>3</td>\n",
       "      <td>1</td>\n",
       "      <td>18.771040</td>\n",
       "      <td>8.0500</td>\n",
       "      <td>7</td>\n",
       "      <td>2</td>\n",
       "      <td>2</td>\n",
       "      <td>0</td>\n",
       "    </tr>\n",
       "  </tbody>\n",
       "</table>\n",
       "</div>"
      ],
      "text/plain": [
       "   Survived  Pclass  Sex        Age     Fare  Cabin  Embarked  Title  \\\n",
       "0         0       3    1  12.737725   7.2500      7         2      2   \n",
       "1         1       1    0  20.083187  71.2833      2         0      3   \n",
       "2         1       3    0  14.664761   7.9250      7         2      1   \n",
       "3         1       1    0  18.771040  53.1000      2         2      3   \n",
       "4         0       3    1  18.771040   8.0500      7         2      2   \n",
       "\n",
       "   FamilyType  \n",
       "0           2  \n",
       "1           2  \n",
       "2           0  \n",
       "3           2  \n",
       "4           0  "
      ]
     },
     "execution_count": 234,
     "metadata": {},
     "output_type": "execute_result"
    }
   ],
   "source": [
    "train_data.head(5)"
   ]
  },
  {
   "cell_type": "code",
   "execution_count": 218,
   "metadata": {},
   "outputs": [],
   "source": [
    "from sklearn import preprocessing"
   ]
  },
  {
   "cell_type": "code",
   "execution_count": 220,
   "metadata": {},
   "outputs": [
    {
     "name": "stdout",
     "output_type": "stream",
     "text": [
      "[0 1]\n",
      "[0 1 2]\n",
      "[0 1 2 3 4 5 6 7]\n",
      "['Master' 'Miss' 'Mr' 'Mrs' 'Other']\n",
      "['alone' 'big' 'small']\n"
     ]
    },
    {
     "data": {
      "text/html": [
       "<div>\n",
       "<style scoped>\n",
       "    .dataframe tbody tr th:only-of-type {\n",
       "        vertical-align: middle;\n",
       "    }\n",
       "\n",
       "    .dataframe tbody tr th {\n",
       "        vertical-align: top;\n",
       "    }\n",
       "\n",
       "    .dataframe thead th {\n",
       "        text-align: right;\n",
       "    }\n",
       "</style>\n",
       "<table border=\"1\" class=\"dataframe\">\n",
       "  <thead>\n",
       "    <tr style=\"text-align: right;\">\n",
       "      <th></th>\n",
       "      <th>Survived</th>\n",
       "      <th>Pclass</th>\n",
       "      <th>Sex</th>\n",
       "      <th>Age</th>\n",
       "      <th>Fare</th>\n",
       "      <th>Cabin</th>\n",
       "      <th>Embarked</th>\n",
       "      <th>Title</th>\n",
       "      <th>FamilyType</th>\n",
       "    </tr>\n",
       "  </thead>\n",
       "  <tbody>\n",
       "    <tr>\n",
       "      <th>0</th>\n",
       "      <td>0</td>\n",
       "      <td>3</td>\n",
       "      <td>1</td>\n",
       "      <td>12.737725</td>\n",
       "      <td>7.2500</td>\n",
       "      <td>7</td>\n",
       "      <td>2</td>\n",
       "      <td>2</td>\n",
       "      <td>2</td>\n",
       "    </tr>\n",
       "    <tr>\n",
       "      <th>1</th>\n",
       "      <td>1</td>\n",
       "      <td>1</td>\n",
       "      <td>0</td>\n",
       "      <td>20.083187</td>\n",
       "      <td>71.2833</td>\n",
       "      <td>2</td>\n",
       "      <td>0</td>\n",
       "      <td>3</td>\n",
       "      <td>2</td>\n",
       "    </tr>\n",
       "    <tr>\n",
       "      <th>2</th>\n",
       "      <td>1</td>\n",
       "      <td>3</td>\n",
       "      <td>0</td>\n",
       "      <td>14.664761</td>\n",
       "      <td>7.9250</td>\n",
       "      <td>7</td>\n",
       "      <td>2</td>\n",
       "      <td>1</td>\n",
       "      <td>0</td>\n",
       "    </tr>\n",
       "    <tr>\n",
       "      <th>3</th>\n",
       "      <td>1</td>\n",
       "      <td>1</td>\n",
       "      <td>0</td>\n",
       "      <td>18.771040</td>\n",
       "      <td>53.1000</td>\n",
       "      <td>2</td>\n",
       "      <td>2</td>\n",
       "      <td>3</td>\n",
       "      <td>2</td>\n",
       "    </tr>\n",
       "    <tr>\n",
       "      <th>4</th>\n",
       "      <td>0</td>\n",
       "      <td>3</td>\n",
       "      <td>1</td>\n",
       "      <td>18.771040</td>\n",
       "      <td>8.0500</td>\n",
       "      <td>7</td>\n",
       "      <td>2</td>\n",
       "      <td>2</td>\n",
       "      <td>0</td>\n",
       "    </tr>\n",
       "  </tbody>\n",
       "</table>\n",
       "</div>"
      ],
      "text/plain": [
       "   Survived  Pclass  Sex        Age     Fare  Cabin  Embarked  Title  \\\n",
       "0         0       3    1  12.737725   7.2500      7         2      2   \n",
       "1         1       1    0  20.083187  71.2833      2         0      3   \n",
       "2         1       3    0  14.664761   7.9250      7         2      1   \n",
       "3         1       1    0  18.771040  53.1000      2         2      3   \n",
       "4         0       3    1  18.771040   8.0500      7         2      2   \n",
       "\n",
       "   FamilyType  \n",
       "0           2  \n",
       "1           2  \n",
       "2           0  \n",
       "3           2  \n",
       "4           0  "
      ]
     },
     "execution_count": 220,
     "metadata": {},
     "output_type": "execute_result"
    }
   ],
   "source": [
    "le = preprocessing.LabelEncoder()\n",
    "cols = [\"Sex\", \"Embarked\", \"Cabin\", \"Title\", \"FamilyType\"]\n",
    "\n",
    "for col in cols:\n",
    "    train_data[col] = le.fit_transform(train_data[col])\n",
    "    test_data[col] = le.fit_transform(test_data[col])\n",
    "    print (le.classes_)\n",
    "\n",
    "train_data.head() "
   ]
  },
  {
   "cell_type": "code",
   "execution_count": 227,
   "metadata": {},
   "outputs": [],
   "source": [
    "from sklearn.linear_model import LogisticRegression\n",
    "from sklearn.ensemble import GradientBoostingClassifier\n",
    "from sklearn.model_selection import train_test_split\n",
    "\n",
    "y = train_data[\"Survived\"]\n",
    "x = train_data.drop([\"Survived\"], axis=1)\n",
    "\n",
    "X_train, X_val, y_train, y_val = train_test_split(x, y, test_size=0.2, random_state=42)"
   ]
  },
  {
   "cell_type": "code",
   "execution_count": 229,
   "metadata": {},
   "outputs": [],
   "source": [
    "clf = GradientBoostingClassifier(random_state=0).fit(X_train, y_train) "
   ]
  },
  {
   "cell_type": "code",
   "execution_count": 230,
   "metadata": {},
   "outputs": [
    {
     "data": {
      "text/plain": [
       "0.8379888268156425"
      ]
     },
     "execution_count": 230,
     "metadata": {},
     "output_type": "execute_result"
    }
   ],
   "source": [
    "predictions = clf.predict(X_val)\n",
    "from sklearn.metrics import accuracy_score\n",
    "accuracy_score(y_val, predictions)"
   ]
  },
  {
   "cell_type": "code",
   "execution_count": 231,
   "metadata": {},
   "outputs": [],
   "source": [
    "submission_predictions = clf.predict(test_data)"
   ]
  },
  {
   "cell_type": "code",
   "execution_count": 232,
   "metadata": {},
   "outputs": [],
   "source": [
    "df = pd.DataFrame({\n",
    "    \"PassengerId\": test_ids,\n",
    "    \"Survived\": submission_predictions\n",
    "})"
   ]
  },
  {
   "cell_type": "code",
   "execution_count": 233,
   "metadata": {},
   "outputs": [],
   "source": [
    "df.to_csv('submission.csv', index=False)"
   ]
  },
  {
   "cell_type": "code",
   "execution_count": null,
   "metadata": {},
   "outputs": [],
   "source": []
  }
 ],
 "metadata": {
  "kernelspec": {
   "display_name": "Python 3",
   "language": "python",
   "name": "python3"
  },
  "language_info": {
   "codemirror_mode": {
    "name": "ipython",
    "version": 3
   },
   "file_extension": ".py",
   "mimetype": "text/x-python",
   "name": "python",
   "nbconvert_exporter": "python",
   "pygments_lexer": "ipython3",
   "version": "3.11.9"
  }
 },
 "nbformat": 4,
 "nbformat_minor": 2
}
